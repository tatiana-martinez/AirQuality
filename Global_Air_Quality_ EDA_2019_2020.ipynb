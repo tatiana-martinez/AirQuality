{
 "cells": [
  {
   "cell_type": "markdown",
   "metadata": {},
   "source": [
    "###### Import necessary librairies"
   ]
  },
  {
   "cell_type": "code",
   "execution_count": 1,
   "metadata": {},
   "outputs": [],
   "source": [
    "import pandas as pd\n",
    "import numpy as np"
   ]
  },
  {
   "cell_type": "markdown",
   "metadata": {},
   "source": [
    "###### Import CSV data file into Python"
   ]
  },
  {
   "cell_type": "code",
   "execution_count": 7,
   "metadata": {},
   "outputs": [],
   "source": [
    "#Our dataset is store in two seperated csv files\n",
    "\n",
    "df2020 = pd.read_csv('D:/Documents/Ironhack/Projet 3/DataAQI/waqi-covid19-airqualitydata-2020.csv')\n",
    "df2019 = pd.read_csv('D:/Documents/Ironhack/Projet 3/DataAQI/waqi-covid19-airqualitydata-2019.csv')"
   ]
  },
  {
   "cell_type": "markdown",
   "metadata": {},
   "source": [
    "###### Contatenate all dataframes in one"
   ]
  },
  {
   "cell_type": "code",
   "execution_count": 12,
   "metadata": {},
   "outputs": [],
   "source": [
    "list_df = [df2020,df2019]\n",
    "df = pd.concat(list_df, ignore_index = True)"
   ]
  },
  {
   "cell_type": "markdown",
   "metadata": {},
   "source": [
    "###### Analyze structure of dataframe and perform the data cleaning"
   ]
  },
  {
   "cell_type": "code",
   "execution_count": 15,
   "metadata": {
    "scrolled": true
   },
   "outputs": [
    {
     "data": {
      "text/html": [
       "<div>\n",
       "<style scoped>\n",
       "    .dataframe tbody tr th:only-of-type {\n",
       "        vertical-align: middle;\n",
       "    }\n",
       "\n",
       "    .dataframe tbody tr th {\n",
       "        vertical-align: top;\n",
       "    }\n",
       "\n",
       "    .dataframe thead th {\n",
       "        text-align: right;\n",
       "    }\n",
       "</style>\n",
       "<table border=\"1\" class=\"dataframe\">\n",
       "  <thead>\n",
       "    <tr style=\"text-align: right;\">\n",
       "      <th></th>\n",
       "      <th>Date</th>\n",
       "      <th>Country</th>\n",
       "      <th>City</th>\n",
       "      <th>Specie</th>\n",
       "      <th>count</th>\n",
       "      <th>min</th>\n",
       "      <th>max</th>\n",
       "      <th>median</th>\n",
       "      <th>variance</th>\n",
       "    </tr>\n",
       "  </thead>\n",
       "  <tbody>\n",
       "    <tr>\n",
       "      <th>0</th>\n",
       "      <td>9/1/2020</td>\n",
       "      <td>SV</td>\n",
       "      <td>San Salvador</td>\n",
       "      <td>humidity</td>\n",
       "      <td>39</td>\n",
       "      <td>69.0</td>\n",
       "      <td>95.4</td>\n",
       "      <td>86.2</td>\n",
       "      <td>433.83</td>\n",
       "    </tr>\n",
       "    <tr>\n",
       "      <th>1</th>\n",
       "      <td>3/28/2020</td>\n",
       "      <td>SV</td>\n",
       "      <td>San Salvador</td>\n",
       "      <td>humidity</td>\n",
       "      <td>72</td>\n",
       "      <td>48.2</td>\n",
       "      <td>95.6</td>\n",
       "      <td>77.2</td>\n",
       "      <td>1648.28</td>\n",
       "    </tr>\n",
       "    <tr>\n",
       "      <th>2</th>\n",
       "      <td>4/14/2020</td>\n",
       "      <td>SV</td>\n",
       "      <td>San Salvador</td>\n",
       "      <td>humidity</td>\n",
       "      <td>72</td>\n",
       "      <td>73.4</td>\n",
       "      <td>97.7</td>\n",
       "      <td>91.2</td>\n",
       "      <td>661.29</td>\n",
       "    </tr>\n",
       "    <tr>\n",
       "      <th>3</th>\n",
       "      <td>5/17/2020</td>\n",
       "      <td>SV</td>\n",
       "      <td>San Salvador</td>\n",
       "      <td>humidity</td>\n",
       "      <td>72</td>\n",
       "      <td>49.5</td>\n",
       "      <td>98.0</td>\n",
       "      <td>87.6</td>\n",
       "      <td>1297.18</td>\n",
       "    </tr>\n",
       "    <tr>\n",
       "      <th>4</th>\n",
       "      <td>1/23/2020</td>\n",
       "      <td>SV</td>\n",
       "      <td>San Salvador</td>\n",
       "      <td>humidity</td>\n",
       "      <td>72</td>\n",
       "      <td>50.0</td>\n",
       "      <td>94.0</td>\n",
       "      <td>82.0</td>\n",
       "      <td>2010.52</td>\n",
       "    </tr>\n",
       "  </tbody>\n",
       "</table>\n",
       "</div>"
      ],
      "text/plain": [
       "        Date Country          City    Specie  count   min   max  median  \\\n",
       "0   9/1/2020      SV  San Salvador  humidity     39  69.0  95.4    86.2   \n",
       "1  3/28/2020      SV  San Salvador  humidity     72  48.2  95.6    77.2   \n",
       "2  4/14/2020      SV  San Salvador  humidity     72  73.4  97.7    91.2   \n",
       "3  5/17/2020      SV  San Salvador  humidity     72  49.5  98.0    87.6   \n",
       "4  1/23/2020      SV  San Salvador  humidity     72  50.0  94.0    82.0   \n",
       "\n",
       "   variance  \n",
       "0    433.83  \n",
       "1   1648.28  \n",
       "2    661.29  \n",
       "3   1297.18  \n",
       "4   2010.52  "
      ]
     },
     "execution_count": 15,
     "metadata": {},
     "output_type": "execute_result"
    }
   ],
   "source": [
    "df.head()"
   ]
  },
  {
   "cell_type": "code",
   "execution_count": 22,
   "metadata": {},
   "outputs": [
    {
     "name": "stdout",
     "output_type": "stream",
     "text": [
      "<class 'pandas.core.frame.DataFrame'>\n",
      "RangeIndex: 2097142 entries, 0 to 2097141\n",
      "Data columns (total 9 columns):\n",
      " #   Column    Dtype  \n",
      "---  ------    -----  \n",
      " 0   Date      object \n",
      " 1   Country   object \n",
      " 2   City      object \n",
      " 3   Specie    object \n",
      " 4   count     int64  \n",
      " 5   min       float64\n",
      " 6   max       float64\n",
      " 7   median    float64\n",
      " 8   variance  float64\n",
      "dtypes: float64(4), int64(1), object(4)\n",
      "memory usage: 144.0+ MB\n"
     ]
    }
   ],
   "source": [
    "df.info()"
   ]
  },
  {
   "cell_type": "code",
   "execution_count": 17,
   "metadata": {
    "scrolled": false
   },
   "outputs": [
    {
     "data": {
      "text/plain": [
       "(2097142, 9)"
      ]
     },
     "execution_count": 17,
     "metadata": {},
     "output_type": "execute_result"
    }
   ],
   "source": [
    "df.shape"
   ]
  },
  {
   "cell_type": "markdown",
   "metadata": {},
   "source": [
    "As we can see, the dataframe has 2 097 142 rows which are the same number as the total rows in two csv files."
   ]
  },
  {
   "cell_type": "markdown",
   "metadata": {},
   "source": [
    "###### Drop duplicated rows"
   ]
  },
  {
   "cell_type": "code",
   "execution_count": 23,
   "metadata": {
    "scrolled": true
   },
   "outputs": [
    {
     "data": {
      "text/html": [
       "<div>\n",
       "<style scoped>\n",
       "    .dataframe tbody tr th:only-of-type {\n",
       "        vertical-align: middle;\n",
       "    }\n",
       "\n",
       "    .dataframe tbody tr th {\n",
       "        vertical-align: top;\n",
       "    }\n",
       "\n",
       "    .dataframe thead th {\n",
       "        text-align: right;\n",
       "    }\n",
       "</style>\n",
       "<table border=\"1\" class=\"dataframe\">\n",
       "  <thead>\n",
       "    <tr style=\"text-align: right;\">\n",
       "      <th></th>\n",
       "      <th>Date</th>\n",
       "      <th>Country</th>\n",
       "      <th>City</th>\n",
       "      <th>Specie</th>\n",
       "      <th>count</th>\n",
       "      <th>min</th>\n",
       "      <th>max</th>\n",
       "      <th>median</th>\n",
       "      <th>variance</th>\n",
       "    </tr>\n",
       "  </thead>\n",
       "  <tbody>\n",
       "    <tr>\n",
       "      <th>1050677</th>\n",
       "      <td>1/1/2020</td>\n",
       "      <td>CA</td>\n",
       "      <td>Hamilton</td>\n",
       "      <td>pm25</td>\n",
       "      <td>93</td>\n",
       "      <td>5.0</td>\n",
       "      <td>63.0</td>\n",
       "      <td>17.0</td>\n",
       "      <td>1668.00</td>\n",
       "    </tr>\n",
       "    <tr>\n",
       "      <th>1050688</th>\n",
       "      <td>1/3/2020</td>\n",
       "      <td>CA</td>\n",
       "      <td>Hamilton</td>\n",
       "      <td>pm25</td>\n",
       "      <td>82</td>\n",
       "      <td>21.0</td>\n",
       "      <td>63.0</td>\n",
       "      <td>42.0</td>\n",
       "      <td>1058.30</td>\n",
       "    </tr>\n",
       "    <tr>\n",
       "      <th>1050837</th>\n",
       "      <td>1/4/2020</td>\n",
       "      <td>CA</td>\n",
       "      <td>Hamilton</td>\n",
       "      <td>pm25</td>\n",
       "      <td>77</td>\n",
       "      <td>5.0</td>\n",
       "      <td>38.0</td>\n",
       "      <td>17.0</td>\n",
       "      <td>809.38</td>\n",
       "    </tr>\n",
       "    <tr>\n",
       "      <th>1050866</th>\n",
       "      <td>12/30/2019</td>\n",
       "      <td>CA</td>\n",
       "      <td>Hamilton</td>\n",
       "      <td>pm25</td>\n",
       "      <td>64</td>\n",
       "      <td>5.0</td>\n",
       "      <td>21.0</td>\n",
       "      <td>13.0</td>\n",
       "      <td>139.01</td>\n",
       "    </tr>\n",
       "    <tr>\n",
       "      <th>1050874</th>\n",
       "      <td>1/5/2020</td>\n",
       "      <td>CA</td>\n",
       "      <td>Hamilton</td>\n",
       "      <td>pm25</td>\n",
       "      <td>67</td>\n",
       "      <td>5.0</td>\n",
       "      <td>42.0</td>\n",
       "      <td>13.0</td>\n",
       "      <td>767.96</td>\n",
       "    </tr>\n",
       "    <tr>\n",
       "      <th>...</th>\n",
       "      <td>...</td>\n",
       "      <td>...</td>\n",
       "      <td>...</td>\n",
       "      <td>...</td>\n",
       "      <td>...</td>\n",
       "      <td>...</td>\n",
       "      <td>...</td>\n",
       "      <td>...</td>\n",
       "      <td>...</td>\n",
       "    </tr>\n",
       "    <tr>\n",
       "      <th>2097014</th>\n",
       "      <td>12/31/2019</td>\n",
       "      <td>DE</td>\n",
       "      <td>Dresden</td>\n",
       "      <td>o3</td>\n",
       "      <td>96</td>\n",
       "      <td>1.7</td>\n",
       "      <td>28.5</td>\n",
       "      <td>18.7</td>\n",
       "      <td>603.88</td>\n",
       "    </tr>\n",
       "    <tr>\n",
       "      <th>2097046</th>\n",
       "      <td>1/2/2020</td>\n",
       "      <td>DE</td>\n",
       "      <td>Dresden</td>\n",
       "      <td>so2</td>\n",
       "      <td>96</td>\n",
       "      <td>3.7</td>\n",
       "      <td>7.7</td>\n",
       "      <td>5.0</td>\n",
       "      <td>9.18</td>\n",
       "    </tr>\n",
       "    <tr>\n",
       "      <th>2097053</th>\n",
       "      <td>12/30/2019</td>\n",
       "      <td>DE</td>\n",
       "      <td>Dresden</td>\n",
       "      <td>so2</td>\n",
       "      <td>24</td>\n",
       "      <td>5.7</td>\n",
       "      <td>10.7</td>\n",
       "      <td>7.3</td>\n",
       "      <td>15.68</td>\n",
       "    </tr>\n",
       "    <tr>\n",
       "      <th>2097062</th>\n",
       "      <td>1/1/2020</td>\n",
       "      <td>DE</td>\n",
       "      <td>Dresden</td>\n",
       "      <td>so2</td>\n",
       "      <td>42</td>\n",
       "      <td>0.7</td>\n",
       "      <td>4.7</td>\n",
       "      <td>1.1</td>\n",
       "      <td>15.94</td>\n",
       "    </tr>\n",
       "    <tr>\n",
       "      <th>2097135</th>\n",
       "      <td>1/5/2020</td>\n",
       "      <td>DE</td>\n",
       "      <td>Dresden</td>\n",
       "      <td>so2</td>\n",
       "      <td>76</td>\n",
       "      <td>0.6</td>\n",
       "      <td>1.7</td>\n",
       "      <td>0.9</td>\n",
       "      <td>0.68</td>\n",
       "    </tr>\n",
       "  </tbody>\n",
       "</table>\n",
       "<p>11926 rows × 9 columns</p>\n",
       "</div>"
      ],
      "text/plain": [
       "               Date Country      City Specie  count   min   max  median  \\\n",
       "1050677    1/1/2020      CA  Hamilton   pm25     93   5.0  63.0    17.0   \n",
       "1050688    1/3/2020      CA  Hamilton   pm25     82  21.0  63.0    42.0   \n",
       "1050837    1/4/2020      CA  Hamilton   pm25     77   5.0  38.0    17.0   \n",
       "1050866  12/30/2019      CA  Hamilton   pm25     64   5.0  21.0    13.0   \n",
       "1050874    1/5/2020      CA  Hamilton   pm25     67   5.0  42.0    13.0   \n",
       "...             ...     ...       ...    ...    ...   ...   ...     ...   \n",
       "2097014  12/31/2019      DE   Dresden     o3     96   1.7  28.5    18.7   \n",
       "2097046    1/2/2020      DE   Dresden    so2     96   3.7   7.7     5.0   \n",
       "2097053  12/30/2019      DE   Dresden    so2     24   5.7  10.7     7.3   \n",
       "2097062    1/1/2020      DE   Dresden    so2     42   0.7   4.7     1.1   \n",
       "2097135    1/5/2020      DE   Dresden    so2     76   0.6   1.7     0.9   \n",
       "\n",
       "         variance  \n",
       "1050677   1668.00  \n",
       "1050688   1058.30  \n",
       "1050837    809.38  \n",
       "1050866    139.01  \n",
       "1050874    767.96  \n",
       "...           ...  \n",
       "2097014    603.88  \n",
       "2097046      9.18  \n",
       "2097053     15.68  \n",
       "2097062     15.94  \n",
       "2097135      0.68  \n",
       "\n",
       "[11926 rows x 9 columns]"
      ]
     },
     "execution_count": 23,
     "metadata": {},
     "output_type": "execute_result"
    }
   ],
   "source": [
    "df[df.duplicated()]"
   ]
  },
  {
   "cell_type": "markdown",
   "metadata": {},
   "source": [
    "We note that there are 11 926 duplicated rows. In fact, there are data of some months that appear in both two csv files.\n",
    "\n",
    "Thus, we will drop the duplicated rows.\n"
   ]
  },
  {
   "cell_type": "code",
   "execution_count": 27,
   "metadata": {
    "scrolled": false
   },
   "outputs": [],
   "source": [
    "df.drop_duplicates(inplace = True)"
   ]
  },
  {
   "cell_type": "code",
   "execution_count": 28,
   "metadata": {
    "scrolled": true
   },
   "outputs": [
    {
     "data": {
      "text/plain": [
       "(2085216, 9)"
      ]
     },
     "execution_count": 28,
     "metadata": {},
     "output_type": "execute_result"
    }
   ],
   "source": [
    "df.shape"
   ]
  },
  {
   "cell_type": "markdown",
   "metadata": {},
   "source": [
    "As we can see, the number of rows has decreased since we dropped duplicated rows.\n",
    "The number of remaining rows is correct."
   ]
  },
  {
   "cell_type": "markdown",
   "metadata": {},
   "source": [
    "###### Move the categories in the column 'Specie' to the level 1 of indexes of columns\n"
   ]
  },
  {
   "cell_type": "code",
   "execution_count": 19,
   "metadata": {},
   "outputs": [
    {
     "data": {
      "text/plain": [
       "array(['humidity', 'wind speed', 'wind gust', 'wind-gust', 'temperature',\n",
       "       'pm25', 'pressure', 'mepaqi', 'wind-speed', 'dew', 'wd', 'o3',\n",
       "       'so2', 'co', 'pm10', 'no2', 'precipitation', 'pm1', 'uvi', 'aqi',\n",
       "       'pol', 'neph'], dtype=object)"
      ]
     },
     "execution_count": 19,
     "metadata": {},
     "output_type": "execute_result"
    }
   ],
   "source": [
    "# We note that the column 'Specie' contains all categories whose values per location and per day are stored in the columns: count, max, min, median, variance\n",
    "df['Specie'].unique()"
   ]
  },
  {
   "cell_type": "code",
   "execution_count": 32,
   "metadata": {},
   "outputs": [],
   "source": [
    "# We move the categories in the column 'Specie' to the level 1 of column index\n",
    "# Thus, the level 0 of column indexes will be: count, max, min, median, variance\n",
    "\n",
    "df = df.set_index(['Date', 'Country','City','Specie'])[['count','min','max','median','variance']].unstack(3)\n",
    "\n",
    "# After the query above, We also reset the index and convert the column 'Date', 'Country','City' from index type to the normal column\n",
    "df = df.reset_index(level = [0,1,2])"
   ]
  },
  {
   "cell_type": "code",
   "execution_count": 33,
   "metadata": {
    "scrolled": false
   },
   "outputs": [
    {
     "data": {
      "text/html": [
       "<div>\n",
       "<style scoped>\n",
       "    .dataframe tbody tr th:only-of-type {\n",
       "        vertical-align: middle;\n",
       "    }\n",
       "\n",
       "    .dataframe tbody tr th {\n",
       "        vertical-align: top;\n",
       "    }\n",
       "\n",
       "    .dataframe thead tr th {\n",
       "        text-align: left;\n",
       "    }\n",
       "</style>\n",
       "<table border=\"1\" class=\"dataframe\">\n",
       "  <thead>\n",
       "    <tr>\n",
       "      <th></th>\n",
       "      <th>Date</th>\n",
       "      <th>Country</th>\n",
       "      <th>City</th>\n",
       "      <th colspan=\"7\" halign=\"left\">count</th>\n",
       "      <th>...</th>\n",
       "      <th colspan=\"10\" halign=\"left\">variance</th>\n",
       "    </tr>\n",
       "    <tr>\n",
       "      <th>Specie</th>\n",
       "      <th></th>\n",
       "      <th></th>\n",
       "      <th></th>\n",
       "      <th>aqi</th>\n",
       "      <th>co</th>\n",
       "      <th>dew</th>\n",
       "      <th>humidity</th>\n",
       "      <th>mepaqi</th>\n",
       "      <th>neph</th>\n",
       "      <th>no2</th>\n",
       "      <th>...</th>\n",
       "      <th>precipitation</th>\n",
       "      <th>pressure</th>\n",
       "      <th>so2</th>\n",
       "      <th>temperature</th>\n",
       "      <th>uvi</th>\n",
       "      <th>wd</th>\n",
       "      <th>wind gust</th>\n",
       "      <th>wind speed</th>\n",
       "      <th>wind-gust</th>\n",
       "      <th>wind-speed</th>\n",
       "    </tr>\n",
       "  </thead>\n",
       "  <tbody>\n",
       "    <tr>\n",
       "      <th>0</th>\n",
       "      <td>1/1/2019</td>\n",
       "      <td>AE</td>\n",
       "      <td>Abu Dhabi</td>\n",
       "      <td>NaN</td>\n",
       "      <td>NaN</td>\n",
       "      <td>21.0</td>\n",
       "      <td>24.0</td>\n",
       "      <td>NaN</td>\n",
       "      <td>NaN</td>\n",
       "      <td>NaN</td>\n",
       "      <td>...</td>\n",
       "      <td>NaN</td>\n",
       "      <td>13.46</td>\n",
       "      <td>NaN</td>\n",
       "      <td>80.27</td>\n",
       "      <td>NaN</td>\n",
       "      <td>NaN</td>\n",
       "      <td>NaN</td>\n",
       "      <td>NaN</td>\n",
       "      <td>NaN</td>\n",
       "      <td>8.43</td>\n",
       "    </tr>\n",
       "    <tr>\n",
       "      <th>1</th>\n",
       "      <td>1/1/2019</td>\n",
       "      <td>AR</td>\n",
       "      <td>Buenos Aires</td>\n",
       "      <td>NaN</td>\n",
       "      <td>NaN</td>\n",
       "      <td>24.0</td>\n",
       "      <td>96.0</td>\n",
       "      <td>NaN</td>\n",
       "      <td>NaN</td>\n",
       "      <td>NaN</td>\n",
       "      <td>...</td>\n",
       "      <td>NaN</td>\n",
       "      <td>1927430.00</td>\n",
       "      <td>NaN</td>\n",
       "      <td>1431.67</td>\n",
       "      <td>NaN</td>\n",
       "      <td>0.0</td>\n",
       "      <td>NaN</td>\n",
       "      <td>NaN</td>\n",
       "      <td>35.86</td>\n",
       "      <td>10.82</td>\n",
       "    </tr>\n",
       "    <tr>\n",
       "      <th>2</th>\n",
       "      <td>1/1/2019</td>\n",
       "      <td>BD</td>\n",
       "      <td>Dhaka</td>\n",
       "      <td>NaN</td>\n",
       "      <td>NaN</td>\n",
       "      <td>NaN</td>\n",
       "      <td>19.0</td>\n",
       "      <td>NaN</td>\n",
       "      <td>NaN</td>\n",
       "      <td>NaN</td>\n",
       "      <td>...</td>\n",
       "      <td>NaN</td>\n",
       "      <td>22.57</td>\n",
       "      <td>NaN</td>\n",
       "      <td>158.46</td>\n",
       "      <td>NaN</td>\n",
       "      <td>NaN</td>\n",
       "      <td>NaN</td>\n",
       "      <td>NaN</td>\n",
       "      <td>NaN</td>\n",
       "      <td>NaN</td>\n",
       "    </tr>\n",
       "    <tr>\n",
       "      <th>3</th>\n",
       "      <td>1/1/2019</td>\n",
       "      <td>BG</td>\n",
       "      <td>Burgas</td>\n",
       "      <td>NaN</td>\n",
       "      <td>NaN</td>\n",
       "      <td>34.0</td>\n",
       "      <td>48.0</td>\n",
       "      <td>NaN</td>\n",
       "      <td>NaN</td>\n",
       "      <td>12.0</td>\n",
       "      <td>...</td>\n",
       "      <td>NaN</td>\n",
       "      <td>92.47</td>\n",
       "      <td>26.55</td>\n",
       "      <td>47.65</td>\n",
       "      <td>NaN</td>\n",
       "      <td>NaN</td>\n",
       "      <td>NaN</td>\n",
       "      <td>NaN</td>\n",
       "      <td>204.69</td>\n",
       "      <td>34.93</td>\n",
       "    </tr>\n",
       "    <tr>\n",
       "      <th>4</th>\n",
       "      <td>1/1/2019</td>\n",
       "      <td>BG</td>\n",
       "      <td>Plovdiv</td>\n",
       "      <td>NaN</td>\n",
       "      <td>NaN</td>\n",
       "      <td>16.0</td>\n",
       "      <td>48.0</td>\n",
       "      <td>NaN</td>\n",
       "      <td>NaN</td>\n",
       "      <td>23.0</td>\n",
       "      <td>...</td>\n",
       "      <td>NaN</td>\n",
       "      <td>50.24</td>\n",
       "      <td>122.84</td>\n",
       "      <td>132.07</td>\n",
       "      <td>NaN</td>\n",
       "      <td>NaN</td>\n",
       "      <td>NaN</td>\n",
       "      <td>NaN</td>\n",
       "      <td>34.47</td>\n",
       "      <td>6.29</td>\n",
       "    </tr>\n",
       "  </tbody>\n",
       "</table>\n",
       "<p>5 rows × 113 columns</p>\n",
       "</div>"
      ],
      "text/plain": [
       "            Date Country          City count                                 \\\n",
       "Specie                                   aqi  co   dew humidity mepaqi neph   \n",
       "0       1/1/2019      AE     Abu Dhabi   NaN NaN  21.0     24.0    NaN  NaN   \n",
       "1       1/1/2019      AR  Buenos Aires   NaN NaN  24.0     96.0    NaN  NaN   \n",
       "2       1/1/2019      BD         Dhaka   NaN NaN   NaN     19.0    NaN  NaN   \n",
       "3       1/1/2019      BG        Burgas   NaN NaN  34.0     48.0    NaN  NaN   \n",
       "4       1/1/2019      BG       Plovdiv   NaN NaN  16.0     48.0    NaN  NaN   \n",
       "\n",
       "              ...      variance                                           \\\n",
       "Specie   no2  ... precipitation    pressure     so2 temperature uvi   wd   \n",
       "0        NaN  ...           NaN       13.46     NaN       80.27 NaN  NaN   \n",
       "1        NaN  ...           NaN  1927430.00     NaN     1431.67 NaN  0.0   \n",
       "2        NaN  ...           NaN       22.57     NaN      158.46 NaN  NaN   \n",
       "3       12.0  ...           NaN       92.47   26.55       47.65 NaN  NaN   \n",
       "4       23.0  ...           NaN       50.24  122.84      132.07 NaN  NaN   \n",
       "\n",
       "                                                  \n",
       "Specie wind gust wind speed wind-gust wind-speed  \n",
       "0            NaN        NaN       NaN       8.43  \n",
       "1            NaN        NaN     35.86      10.82  \n",
       "2            NaN        NaN       NaN        NaN  \n",
       "3            NaN        NaN    204.69      34.93  \n",
       "4            NaN        NaN     34.47       6.29  \n",
       "\n",
       "[5 rows x 113 columns]"
      ]
     },
     "execution_count": 33,
     "metadata": {},
     "output_type": "execute_result"
    }
   ],
   "source": [
    "df.head()"
   ]
  },
  {
   "cell_type": "markdown",
   "metadata": {},
   "source": [
    "As we can see, the categories in the column 'Specie' are moved to the level 1 of index of columns."
   ]
  }
 ],
 "metadata": {
  "kernelspec": {
   "display_name": "Python 3",
   "language": "python",
   "name": "python3"
  },
  "language_info": {
   "codemirror_mode": {
    "name": "ipython",
    "version": 3
   },
   "file_extension": ".py",
   "mimetype": "text/x-python",
   "name": "python",
   "nbconvert_exporter": "python",
   "pygments_lexer": "ipython3",
   "version": "3.7.6"
  }
 },
 "nbformat": 4,
 "nbformat_minor": 4
}
